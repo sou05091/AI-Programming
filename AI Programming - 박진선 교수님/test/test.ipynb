{
 "cells": [
  {
   "cell_type": "code",
   "execution_count": 2,
   "metadata": {},
   "outputs": [
    {
     "data": {
      "text/plain": [
       "<function TextIOWrapper.close()>"
      ]
     },
     "execution_count": 2,
     "metadata": {},
     "output_type": "execute_result"
    }
   ],
   "source": [
    "vn = []\n",
    "value = []\n",
    "infile = open('equations.txt',\"r\")\n",
    "line = infile.readline()\n",
    "while line != '':\n",
    "    data = line.split(',')\n",
    "    vn.append(data[0])\n",
    "    value.append([data[1],data[2]])\n",
    "    line = infile.readline()\n",
    "infile.close"
   ]
  },
  {
   "cell_type": "code",
   "execution_count": 8,
   "metadata": {},
   "outputs": [
    {
     "name": "stdout",
     "output_type": "stream",
     "text": [
      "10*x + 2*y\n",
      "10*x + 2*y\n"
     ]
    }
   ],
   "source": [
    "print(vn[0])\n",
    "test = vn[0]\n",
    "x='x'\n",
    "y = 'y'\n",
    "if test in x:\n",
    "    x = value[1]\n",
    "if test in y:\n",
    "    x = value[2]\n"
   ]
  }
 ],
 "metadata": {
  "kernelspec": {
   "display_name": "Python 3",
   "language": "python",
   "name": "python3"
  },
  "language_info": {
   "codemirror_mode": {
    "name": "ipython",
    "version": 3
   },
   "file_extension": ".py",
   "mimetype": "text/x-python",
   "name": "python",
   "nbconvert_exporter": "python",
   "pygments_lexer": "ipython3",
   "version": "3.11.3"
  },
  "orig_nbformat": 4
 },
 "nbformat": 4,
 "nbformat_minor": 2
}
