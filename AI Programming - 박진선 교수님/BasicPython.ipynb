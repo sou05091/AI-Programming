{
 "cells": [
  {
   "cell_type": "code",
   "execution_count": 82,
   "metadata": {},
   "outputs": [
    {
     "name": "stdout",
     "output_type": "stream",
     "text": [
      "700\n"
     ]
    }
   ],
   "source": [
    "speed=50\n",
    "timeElapsed=14\n",
    "distance = speed*timeElapsed\n",
    "print(distance)"
   ]
  },
  {
   "cell_type": "code",
   "execution_count": 83,
   "metadata": {},
   "outputs": [],
   "source": [
    "myname = 'beom'\n",
    "myName = 'min'\n",
    "# 2a = a 숫자가 먼저오면 안된다. \n",
    "# dd! = 2 특수문자는 안된다.\n",
    "_=2 # 가능함"
   ]
  },
  {
   "cell_type": "code",
   "execution_count": 84,
   "metadata": {},
   "outputs": [
    {
     "name": "stdout",
     "output_type": "stream",
     "text": [
      "abc\n",
      "def\n"
     ]
    }
   ],
   "source": [
    "s = '''abc\n",
    "def'''\n",
    "print(s)"
   ]
  },
  {
   "cell_type": "code",
   "execution_count": 85,
   "metadata": {},
   "outputs": [
    {
     "name": "stdout",
     "output_type": "stream",
     "text": [
      "aaabbb\n"
     ]
    }
   ],
   "source": [
    "s = 'good' + 'bye'\n",
    "#print(s)\n",
    "('a' + 'b') * 3\n",
    "l = 'a' * 3 + 'b' * 3\n",
    "print(l) "
   ]
  },
  {
   "cell_type": "code",
   "execution_count": 86,
   "metadata": {},
   "outputs": [
    {
     "data": {
      "text/plain": [
       "10"
      ]
     },
     "execution_count": 86,
     "metadata": {},
     "output_type": "execute_result"
    }
   ],
   "source": [
    "eval('23.5')\n",
    "x = 5\n",
    "eval('2*x')"
   ]
  },
  {
   "cell_type": "code",
   "execution_count": 87,
   "metadata": {},
   "outputs": [
    {
     "name": "stdout",
     "output_type": "stream",
     "text": [
      "5\n"
     ]
    }
   ],
   "source": [
    "exec('x=2')\n",
    "exec('y=3')\n",
    "#print(x,y)\n",
    "#eval('x+y')\n",
    "# exec = 내부에 있는 함수를 실해만 해준다. return 값도 없음\n",
    "exec('z2=x+y')\n",
    "print(z2)\n"
   ]
  },
  {
   "cell_type": "code",
   "execution_count": 88,
   "metadata": {},
   "outputs": [
    {
     "data": {
      "text/plain": [
       "'10%'"
      ]
     },
     "execution_count": 88,
     "metadata": {},
     "output_type": "execute_result"
    }
   ],
   "source": [
    "str(5.6)\n",
    "str(5.)\n",
    "x = 10\n",
    "str(x) + '%'"
   ]
  },
  {
   "cell_type": "code",
   "execution_count": 89,
   "metadata": {},
   "outputs": [
    {
     "name": "stdout",
     "output_type": "stream",
     "text": [
      "Code\n",
      "Ben Hur\n",
      "ab\n"
     ]
    }
   ],
   "source": [
    "str1 = 'Python'\n",
    "# 대문자로 변경\n",
    "str1.upper()\n",
    "# 소문자로 변경\n",
    "str1.lower()\n",
    "# th 라는 문자 세기\n",
    "str1.count('th')\n",
    "# 소문자 대문자 변경\n",
    "a='coDE'.capitalize()\n",
    "print(a)\n",
    "# 제목의 타이틀 문자 변경\n",
    "b='bEN hUR'.title()\n",
    "print(b)\n",
    "# remove spaces from the right side\n",
    "c = 'ab         '.rstrip()\n",
    "print(c)\n"
   ]
  },
  {
   "cell_type": "code",
   "execution_count": 90,
   "metadata": {},
   "outputs": [
    {
     "data": {
      "text/plain": [
       "'oe'"
      ]
     },
     "execution_count": 90,
     "metadata": {},
     "output_type": "execute_result"
    }
   ],
   "source": [
    "s='minbeom'\n",
    "s[0:2]\n",
    "s[0:3]\n",
    "s[3:5]\n",
    "s[5:3:-1]"
   ]
  },
  {
   "cell_type": "code",
   "execution_count": 91,
   "metadata": {},
   "outputs": [
    {
     "data": {
      "text/plain": [
       "9"
      ]
     },
     "execution_count": 91,
     "metadata": {},
     "output_type": "execute_result"
    }
   ],
   "source": [
    "# W가 몇번쨰인지 찾아라 // -1인 경우 찾지 못했다.\n",
    "str1 = 'Hello World'\n",
    "str1.find('W')\n",
    "# 가장 오른쪽에 있는 l을 찾아준다.\n",
    "str1.rfind('l')"
   ]
  },
  {
   "cell_type": "code",
   "execution_count": 92,
   "metadata": {},
   "outputs": [
    {
     "name": "stdout",
     "output_type": "stream",
     "text": [
      "5*7\n",
      "HelloWorld\n"
     ]
    }
   ],
   "source": [
    "x=5\n",
    "y=7\n",
    "print(x,y,sep='*')\n",
    "print(\"Hello\",\"World\", sep=\"\")"
   ]
  },
  {
   "cell_type": "code",
   "execution_count": 93,
   "metadata": {},
   "outputs": [
    {
     "name": "stdout",
     "output_type": "stream",
     "text": [
      "20 is Swaroop\n"
     ]
    }
   ],
   "source": [
    "age=20\n",
    "name='Swaroop'\n",
    "print('{1} is {0}'.format(name,age))"
   ]
  },
  {
   "cell_type": "code",
   "execution_count": 94,
   "metadata": {},
   "outputs": [
    {
     "name": "stdout",
     "output_type": "stream",
     "text": [
      "   1234.57\n",
      "  1,234.57\n",
      "  1234.568\n",
      "123,456.78%\n",
      "123,456.780%\n",
      "12,345,678\n"
     ]
    }
   ],
   "source": [
    "print('{0:10.2f}'.format(1234.5678))\n",
    "#반올림\n",
    "print('{0:10,.2f}'.format(1234.5678))\n",
    "print('{0:10.3f}'.format(1234.5678))\n",
    "print('{0:10,.2%}'.format(1234.5678))\n",
    "print('{0:10,.3%}'.format(1234.5678))\n",
    "print('{0:10,}'.format(12345678))\n"
   ]
  },
  {
   "cell_type": "code",
   "execution_count": 95,
   "metadata": {},
   "outputs": [
    {
     "name": "stdout",
     "output_type": "stream",
     "text": [
      "Your name is \n"
     ]
    },
    {
     "ename": "ValueError",
     "evalue": "invalid literal for int() with base 10: ' '",
     "output_type": "error",
     "traceback": [
      "\u001b[1;31m---------------------------------------------------------------------------\u001b[0m",
      "\u001b[1;31mValueError\u001b[0m                                Traceback (most recent call last)",
      "Cell \u001b[1;32mIn[95], line 3\u001b[0m\n\u001b[0;32m      1\u001b[0m text \u001b[39m=\u001b[39m \u001b[39minput\u001b[39m(\u001b[39m'\u001b[39m\u001b[39mPut your name : \u001b[39m\u001b[39m'\u001b[39m)\n\u001b[0;32m      2\u001b[0m \u001b[39mprint\u001b[39m(\u001b[39mf\u001b[39m\u001b[39m\"\u001b[39m\u001b[39mYour name is \u001b[39m\u001b[39m{\u001b[39;00mtext\u001b[39m}\u001b[39;00m\u001b[39m\"\u001b[39m)\n\u001b[1;32m----> 3\u001b[0m int_value \u001b[39m=\u001b[39m \u001b[39mint\u001b[39;49m(\u001b[39minput\u001b[39;49m(\u001b[39m'\u001b[39;49m\u001b[39mEnter your age\u001b[39;49m\u001b[39m'\u001b[39;49m))\n\u001b[0;32m      4\u001b[0m \u001b[39mprint\u001b[39m(\u001b[39mf\u001b[39m\u001b[39m\"\u001b[39m\u001b[39mYour age is \u001b[39m\u001b[39m{\u001b[39;00mint_value\u001b[39m}\u001b[39;00m\u001b[39m\"\u001b[39m)\n\u001b[0;32m      5\u001b[0m any_vlaue \u001b[39m=\u001b[39m \u001b[39meval\u001b[39m(\u001b[39minput\u001b[39m(\u001b[39m'\u001b[39m\u001b[39minput any number\u001b[39m\u001b[39m'\u001b[39m))\n",
      "\u001b[1;31mValueError\u001b[0m: invalid literal for int() with base 10: ' '"
     ]
    }
   ],
   "source": [
    "text = input('Put your name : ')\n",
    "print(f\"Your name is {text}\")\n",
    "int_value = int(input('Enter your age'))\n",
    "print(f\"Your age is {int_value}\")\n",
    "any_vlaue = eval(input('input any number'))\n",
    "print(any_vlaue)\n"
   ]
  },
  {
   "cell_type": "code",
   "execution_count": null,
   "metadata": {},
   "outputs": [
    {
     "data": {
      "text/plain": [
       "'Park'"
      ]
     },
     "execution_count": 65,
     "metadata": {},
     "output_type": "execute_result"
    }
   ],
   "source": [
    "name = 'MB Kim'\n",
    "n = name.rfind(' ')\n",
    "name[:n]\n",
    "name[n+1:]"
   ]
  },
  {
   "cell_type": "code",
   "execution_count": null,
   "metadata": {},
   "outputs": [
    {
     "name": "stdout",
     "output_type": "stream",
     "text": [
      "5\n"
     ]
    }
   ],
   "source": [
    "a = int(input())\n",
    "if a>4:\n",
    "    print(a)\n",
    "else:\n",
    "    print(\"NOPE\")"
   ]
  },
  {
   "cell_type": "code",
   "execution_count": null,
   "metadata": {},
   "outputs": [
    {
     "name": "stdout",
     "output_type": "stream",
     "text": [
      "Well done\n"
     ]
    }
   ],
   "source": [
    "quotation = ('Well ' + \n",
    "             'done')\n",
    "print(quotation)"
   ]
  },
  {
   "cell_type": "code",
   "execution_count": null,
   "metadata": {},
   "outputs": [
    {
     "data": {
      "text/plain": [
       "1.0"
      ]
     },
     "execution_count": 76,
     "metadata": {},
     "output_type": "execute_result"
    }
   ],
   "source": [
    "#floating 나누기\n",
    "15/3\n",
    "# 정수 나누기\n",
    "15//3\n",
    "# 몫만 나옴\n",
    "3.5//2"
   ]
  },
  {
   "cell_type": "code",
   "execution_count": 98,
   "metadata": {},
   "outputs": [
    {
     "data": {
      "text/plain": [
       "6"
      ]
     },
     "execution_count": 98,
     "metadata": {},
     "output_type": "execute_result"
    }
   ],
   "source": [
    "# 10 -> 1000 왼쪽으로 2칸 이동\n",
    "2<<2\n",
    "16>>2\n",
    "16<<2\n",
    "# and 둘다 1이면 1 아니면 0\n",
    "5&3\n",
    "# or 둘중 하나만 1이어도 1\n",
    "5 | 3\n",
    "# xor 101 011 = 110\n",
    "5 ^ 3"
   ]
  },
  {
   "cell_type": "code",
   "execution_count": 102,
   "metadata": {},
   "outputs": [
    {
     "data": {
      "text/plain": [
       "True"
      ]
     },
     "execution_count": 102,
     "metadata": {},
     "output_type": "execute_result"
    }
   ],
   "source": [
    "3 < 5 < 7\n",
    "5 < 3\n",
    "# 5>3 and 2<4 두개를 끊어서 봄\n",
    "5 > 2 < 4"
   ]
  },
  {
   "cell_type": "code",
   "execution_count": 105,
   "metadata": {},
   "outputs": [
    {
     "data": {
      "text/plain": [
       "False"
      ]
     },
     "execution_count": 105,
     "metadata": {},
     "output_type": "execute_result"
    }
   ],
   "source": [
    "l = 10\n",
    "m = 5\n",
    "n = 0\n",
    "# and = 앞에 false가 나오면 뒤에 계산을 안한다.\n",
    "(n!=0) and (l==(m/n)) "
   ]
  },
  {
   "cell_type": "code",
   "execution_count": 2,
   "metadata": {},
   "outputs": [
    {
     "name": "stdout",
     "output_type": "stream",
     "text": [
      "Wrong number (up number)\n",
      "Wrong number (up number)\n",
      "Wrong number (up number)\n",
      "Wrong number (up number)\n",
      "Wrong number (up number)\n",
      "Wrong number (down number)\n",
      "success your score is 6\n"
     ]
    }
   ],
   "source": [
    "number =24\n",
    "count = 0\n",
    "while True:\n",
    "    guess = int(input(\"guess number\"))\n",
    "    if guess == number:\n",
    "        print(f\"success your score is {count}\")\n",
    "        break\n",
    "    elif guess > number:\n",
    "        print(\"Wrong number (down)\")\n",
    "        count += 1\n",
    "    else:\n",
    "        print(\"Wrong number (up)\")\n",
    "        count += 1"
   ]
  },
  {
   "attachments": {},
   "cell_type": "markdown",
   "metadata": {},
   "source": []
  }
 ],
 "metadata": {
  "kernelspec": {
   "display_name": "Python 3",
   "language": "python",
   "name": "python3"
  },
  "language_info": {
   "codemirror_mode": {
    "name": "ipython",
    "version": 3
   },
   "file_extension": ".py",
   "mimetype": "text/x-python",
   "name": "python",
   "nbconvert_exporter": "python",
   "pygments_lexer": "ipython3",
   "version": "3.11.3"
  },
  "orig_nbformat": 4
 },
 "nbformat": 4,
 "nbformat_minor": 2
}
