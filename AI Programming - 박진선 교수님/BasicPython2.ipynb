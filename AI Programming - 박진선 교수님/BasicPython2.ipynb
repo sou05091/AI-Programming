{
 "cells": [
  {
   "cell_type": "code",
   "execution_count": 2,
   "metadata": {},
   "outputs": [
    {
     "name": "stdout",
     "output_type": "stream",
     "text": [
      "Wrong number (up)\n",
      "Wrong number (down)\n",
      "success your score is 2\n"
     ]
    }
   ],
   "source": [
    "number = 24\n",
    "count = 0\n",
    "while True:\n",
    "    guess = int(input(\"guess number\"))\n",
    "    if guess == number:\n",
    "        print(f\"success your score is {count}\")\n",
    "        break\n",
    "    elif guess > number:\n",
    "        print(\"Wrong number (down)\")\n",
    "        count += 1\n",
    "    else:\n",
    "        print(\"Wrong number (up)\")\n",
    "        count += 1"
   ]
  },
  {
   "cell_type": "code",
   "execution_count": 13,
   "metadata": {},
   "outputs": [
    {
     "name": "stdout",
     "output_type": "stream",
     "text": [
      "Minimum: 1\n",
      "Maximum: 8\n",
      "Average: 4.571428571428571\n"
     ]
    }
   ],
   "source": [
    "rs = []\n",
    "while True:\n",
    "    x = [int(num) for num in input().split()]\n",
    "    rs.extend(x)\n",
    "    count = len(rs)\n",
    "    if count > 0:\n",
    "        minimum = min(rs)\n",
    "        maximum = max(rs)\n",
    "        average = sum(rs) / count\n",
    "        print('Minimum:', minimum)\n",
    "        print('Maximum:', maximum)\n",
    "        print('Average:', average)\n",
    "        break\n",
    "    elif count > 5:\n",
    "        print('5개 이상 입력받았습니다.')\n",
    "        break\n",
    "    else:\n",
    "        print('No nonnegative integers were entered')"
   ]
  },
  {
   "cell_type": "code",
   "execution_count": 32,
   "metadata": {},
   "outputs": [
    {
     "name": "stdout",
     "output_type": "stream",
     "text": [
      "*\n",
      "**\n",
      "***\n",
      "****\n",
      "*****\n"
     ]
    }
   ],
   "source": [
    "numberOfRows = int(input('Enter a number from 1 to 20'))\n",
    "for i in range(numberOfRows):\n",
    "    for j in range(i+1):\n",
    "        print('*', end='')\n",
    "    print()"
   ]
  },
  {
   "cell_type": "code",
   "execution_count": 62,
   "metadata": {},
   "outputs": [
    {
     "name": "stdout",
     "output_type": "stream",
     "text": [
      "*++++\n",
      "**+++\n",
      "***++\n",
      "****+\n",
      "*****\n",
      "****+\n",
      "***++\n",
      "**+++\n",
      "*++++\n",
      "+++++\n"
     ]
    }
   ],
   "source": [
    "numberOfRows = int(input('Enter a number from 1 to 20'))\n",
    "count = numberOfRows-1\n",
    "for i in range(numberOfRows):\n",
    "    for j in range(i+1):\n",
    "        print('*', end='')\n",
    "    for k in range(count-i):\n",
    "        print('+', end='')\n",
    "    print()\n",
    "for i in range(numberOfRows):\n",
    "    for k in range(count-i):\n",
    "        print('*', end='')\n",
    "    for j in range(i+1):\n",
    "        print('+', end='')\n",
    "    print()\n",
    "    "
   ]
  },
  {
   "cell_type": "code",
   "execution_count": 92,
   "metadata": {},
   "outputs": [
    {
     "name": "stdout",
     "output_type": "stream",
     "text": [
      "abced\n"
     ]
    }
   ],
   "source": [
    "word = input()\n",
    "reversedWord = ''\n",
    "#for ch in word:\n",
    "#    reversedWord = ch + reversedWord\n",
    "print(word[0:3] + word[-1:2:-1])"
   ]
  },
  {
   "cell_type": "code",
   "execution_count": 71,
   "metadata": {},
   "outputs": [
    {
     "name": "stdout",
     "output_type": "stream",
     "text": [
      "123\n",
      "123\n",
      "minbeom\n",
      "minbeom\n",
      "goodgood\n"
     ]
    }
   ],
   "source": [
    "infile = open('textfile.txt','r')\n",
    "\n",
    "firstname = 'minbeom'\n",
    "\n",
    "for s in infile:\n",
    "    print(s, end='')\n",
    "    print(s.rstrip())\n",
    "infile.close()\n"
   ]
  },
  {
   "cell_type": "code",
   "execution_count": 76,
   "metadata": {},
   "outputs": [
    {
     "name": "stdout",
     "output_type": "stream",
     "text": [
      "Too short\n",
      "Too short\n",
      "Input is of stufficient length\n"
     ]
    }
   ],
   "source": [
    "while True:\n",
    "    s = input('Enter something : ')\n",
    "    if s == 'quit':\n",
    "        break\n",
    "    if len(s) < 3:\n",
    "        print('Too short')\n",
    "        continue\n",
    "    print('Input is of stufficient length')"
   ]
  },
  {
   "cell_type": "code",
   "execution_count": 109,
   "metadata": {},
   "outputs": [
    {
     "name": "stdout",
     "output_type": "stream",
     "text": [
      "test word\n"
     ]
    }
   ],
   "source": [
    "sentene = input()\n",
    "word1 = input()\n",
    "word2 = input()\n",
    "\n",
    "replaced = sentene.replace(word1, word2)\n",
    "\n",
    "print(replaced)"
   ]
  },
  {
   "cell_type": "code",
   "execution_count": 112,
   "metadata": {},
   "outputs": [
    {
     "name": "stdout",
     "output_type": "stream",
     "text": [
      "[['test', 'word', 'test']]\n",
      "['test']\n",
      "['success']\n",
      "단어가 대체되었습니다.\n",
      "['success', 'word', 'test']\n"
     ]
    }
   ],
   "source": [
    "rs = []\n",
    "rs2 = []\n",
    "rs3 = []\n",
    "x = input('문장을 입력하세요: ').split()\n",
    "rs.append(x)\n",
    "replace_word = input('대체할 단어를 입력하세요: ')\n",
    "rs2.append(replace_word)\n",
    "enter_word = input('대체할 단어를 입력하세요: ')\n",
    "rs3.append(enter_word)\n",
    "\n",
    "print(rs)\n",
    "print(rs2)\n",
    "print(rs3)\n",
    "\n",
    "replaced = False  # 대체 여부를 확인하기 위한 변수\n",
    "\n",
    "for i in range(len(rs)):\n",
    "    for j in range(len(rs[i])):\n",
    "        if rs2[0] == rs[i][j]:\n",
    "            rs[i][j] = rs3[0]\n",
    "            replaced = True\n",
    "            break\n",
    "\n",
    "if replaced:\n",
    "    print('단어가 대체되었습니다.')\n",
    "else:\n",
    "    print('단어를 찾을 수 없습니다.')\n",
    "\n",
    "print(x)\n"
   ]
  },
  {
   "cell_type": "code",
   "execution_count": 117,
   "metadata": {},
   "outputs": [
    {
     "name": "stdout",
     "output_type": "stream",
     "text": [
      "presient_value : $7,903.15\n"
     ]
    }
   ],
   "source": [
    "f = eval(input())\n",
    "r = eval(input())\n",
    "n = eval(input())\n",
    "\n",
    "presient_value = f /(1+r/100) ** n\n",
    "print('presient_value : ${:,.2f}'.format(presient_value))"
   ]
  },
  {
   "cell_type": "code",
   "execution_count": 123,
   "metadata": {},
   "outputs": [
    {
     "data": {
      "text/plain": [
       "[5, 10, 4, 5, 1, 2]"
      ]
     },
     "execution_count": 123,
     "metadata": {},
     "output_type": "execute_result"
    }
   ],
   "source": [
    "team = ['Serahawks', 2014, 'CenturyLink Field']\n",
    "nums = [5,10,4,5]\n",
    "words = ['spam' , 'ni']\n",
    "max(nums)\n",
    "nums.count(5)\n",
    "nums.extend([1,2])\n",
    "nums"
   ]
  },
  {
   "cell_type": "code",
   "execution_count": 126,
   "metadata": {},
   "outputs": [
    {
     "name": "stdout",
     "output_type": "stream",
     "text": [
      "To be or not to be\n",
      "Shape, Crackle, Pop\n"
     ]
    }
   ],
   "source": [
    "line = ['To', 'be','or', 'not', 'to', 'be']\n",
    "string = ' '. join(line)\n",
    "print(string)\n",
    "krispies = ['Shape', 'Crackle', 'Pop']\n",
    "print(', '.join(krispies))"
   ]
  },
  {
   "cell_type": "code",
   "execution_count": 131,
   "metadata": {},
   "outputs": [
    {
     "name": "stdout",
     "output_type": "stream",
     "text": [
      "Number of animals in the zoo is 3\n",
      "('monkey', 'calmel', ('python', 'elephant', 'penguin'))\n",
      "('python', 'elephant', 'penguin')\n",
      "penguin\n",
      "5\n"
     ]
    }
   ],
   "source": [
    "zoo = ('python', 'elephant', 'penguin')\n",
    "print('Number of animals in the zoo is',len(zoo))\n",
    "\n",
    "new_zoo = 'monkey', 'calmel', zoo\n",
    "print(new_zoo)\n",
    "print(new_zoo[2])\n",
    "print(new_zoo[2][2])\n",
    "print(len(new_zoo) - 1 + len(new_zoo[2]))\n",
    "\n"
   ]
  },
  {
   "cell_type": "code",
   "execution_count": 132,
   "metadata": {},
   "outputs": [
    {
     "name": "stdout",
     "output_type": "stream",
     "text": [
      "('as', 1)\n",
      "1\n",
      "cc\n"
     ]
    }
   ],
   "source": [
    "regions = [('as', 1), ('bb', 2), ('cc', 3), ('dd', 4)]\n",
    "print(regions[0])\n",
    "print(regions[0][1])\n",
    "print(regions[2][0])\n"
   ]
  },
  {
   "cell_type": "code",
   "execution_count": 135,
   "metadata": {},
   "outputs": [
    {
     "name": "stdout",
     "output_type": "stream",
     "text": [
      "Simple Assignment\n",
      "['mango', 'carrot', 'banana']\n",
      "['mango', 'carrot', 'banana']\n",
      "-----------------------------\n",
      "['mango', 'carrot', 'banana']\n",
      "['carrot', 'banana']\n"
     ]
    }
   ],
   "source": [
    "print('Simple Assignment')\n",
    "shoplist = ['apple','mango', 'carrot', 'banana']\n",
    "mylist = shoplist\n",
    "\n",
    "del mylist[0]\n",
    "print(shoplist)\n",
    "print(mylist)\n",
    "print('-----------------------------')\n",
    "\n",
    "mylist = shoplist[:]\n",
    "del mylist[0]\n",
    "print(shoplist)\n",
    "print(mylist)"
   ]
  }
 ],
 "metadata": {
  "kernelspec": {
   "display_name": "Python 3",
   "language": "python",
   "name": "python3"
  },
  "language_info": {
   "codemirror_mode": {
    "name": "ipython",
    "version": 3
   },
   "file_extension": ".py",
   "mimetype": "text/x-python",
   "name": "python",
   "nbconvert_exporter": "python",
   "pygments_lexer": "ipython3",
   "version": "3.11.3"
  },
  "orig_nbformat": 4
 },
 "nbformat": 4,
 "nbformat_minor": 2
}
