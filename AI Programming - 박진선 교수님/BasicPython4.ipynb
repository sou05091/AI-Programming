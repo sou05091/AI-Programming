{
 "cells": [
  {
   "cell_type": "code",
   "execution_count": 1,
   "metadata": {},
   "outputs": [
    {
     "name": "stdout",
     "output_type": "stream",
     "text": [
      "John Backus, Alan Kay, Dennis Ritchie,  James Staling\n"
     ]
    }
   ],
   "source": [
    "names = [\"Dennis Ritchie\", \"Alan Kay\", \"John Backus\", \" James Staling\"]\n",
    "\n",
    "names.sort(key=lambda name: name.split()[-1])\n",
    "nameString = \", \".join(names)\n",
    "print(nameString)"
   ]
  },
  {
   "cell_type": "code",
   "execution_count": 4,
   "metadata": {},
   "outputs": [
    {
     "name": "stdout",
     "output_type": "stream",
     "text": [
      "New salary for minbeom : 30600.0\n"
     ]
    }
   ],
   "source": [
    "def pay_Raise(salary):\n",
    "    if salary >= 40000:\n",
    "        salary = salary + (salary*0.05)\n",
    "    else:\n",
    "        salary = salary + (salary*0.02)\n",
    "    return salary\n",
    "\n",
    "first_name = input(\"Enter first name : \")\n",
    "last_name = input(\"Enter last name : \")\n",
    "salary = int(input(\"Enter current salary : \"))\n",
    "result = pay_Raise(salary)\n",
    "print(f\"New salary for {first_name + last_name} : {result}\")\n",
    "    "
   ]
  },
  {
   "cell_type": "code",
   "execution_count": 11,
   "metadata": {},
   "outputs": [
    {
     "name": "stdout",
     "output_type": "stream",
     "text": [
      "2\n"
     ]
    }
   ],
   "source": [
    "def find_word(arr, word):\n",
    "    count = 0\n",
    "    for i in arr:\n",
    "        if i == word:\n",
    "            count += 1\n",
    "    return count\n",
    "\n",
    "word_input = input().split(\" \")\n",
    "word = input()\n",
    "result = find_word(word_input,word)\n",
    "print(result)\n"
   ]
  },
  {
   "cell_type": "code",
   "execution_count": 13,
   "metadata": {},
   "outputs": [
    {
     "name": "stdout",
     "output_type": "stream",
     "text": [
      "1\n"
     ]
    }
   ],
   "source": [
    "def find_word(word1, word):\n",
    "    count = 0\n",
    "    if word in word1:\n",
    "        count += 1\n",
    "    return count\n",
    "\n",
    "word_input = input()\n",
    "word = input()\n",
    "result = find_word(word_input,word)\n",
    "print(result)\n"
   ]
  },
  {
   "cell_type": "code",
   "execution_count": 14,
   "metadata": {},
   "outputs": [
    {
     "name": "stdout",
     "output_type": "stream",
     "text": [
      "George Washington\n",
      "John Adams\n",
      "Thomas Jefferson\n"
     ]
    }
   ],
   "source": [
    "def displayWithLoop(file):\n",
    "    infile = open(file,'r')\n",
    "    for line in infile:\n",
    "        print(line.rstrip())\n",
    "    infile.close()\n",
    "displayWithLoop('./AIP_05_Data Processing and File Access_data/FirstPresidents.txt')\n",
    "    "
   ]
  },
  {
   "cell_type": "code",
   "execution_count": 20,
   "metadata": {},
   "outputs": [
    {
     "data": {
      "text/plain": [
       "{'brazil', 'india'}"
      ]
     },
     "execution_count": 20,
     "metadata": {},
     "output_type": "execute_result"
    }
   ],
   "source": [
    "bri = {'brazil', 'russia', 'india'}\n",
    "'india' in bri\n",
    "'usa' in bri\n",
    "bric = bri.copy()\n",
    "bric.add('china')\n",
    "bri.remove('russia')\n",
    "bri\n",
    "bric\n",
    "bric.issuperset(bri)\n",
    "bri & bric\n"
   ]
  },
  {
   "cell_type": "code",
   "execution_count": 26,
   "metadata": {},
   "outputs": [
    {
     "name": "stdout",
     "output_type": "stream",
     "text": [
      "Park 12345\n",
      "Kim 234234\n",
      "Lee 23905841\n",
      "Park\n",
      "Kim\n",
      "Lee\n",
      "12345\n",
      "234234\n",
      "23905841\n"
     ]
    }
   ],
   "source": [
    "d = {\n",
    "    'Park' : 12345,\n",
    "    'Kim' : 234234,\n",
    "    'Lee' : 23905841,\n",
    "       \n",
    "}\n",
    "# 둘다\n",
    "for key, value in d.items():\n",
    "    print(key,value)\n",
    "    \n",
    "# key 값\n",
    "for v in d:\n",
    "    print(v)\n",
    "\n",
    "# value 값\n",
    "for v in d.values():\n",
    "    print(v)"
   ]
  },
  {
   "cell_type": "code",
   "execution_count": 28,
   "metadata": {},
   "outputs": [
    {
     "name": "stdout",
     "output_type": "stream",
     "text": [
      "Enter the person 's age groupThe admission fee is 0\n"
     ]
    }
   ],
   "source": [
    "def main():\n",
    "    print(\"Enter the person 's age group\", end=\"\")\n",
    "    ageGroup = input(\"(child, minor, adult, or senior) : \")\n",
    "    print(\"The admission fee is\", determinAdmissionFee(ageGroup), \"dollars.\")\n",
    "def determinAdmissionFee(ageGroup):\n",
    "    if ageGroup == \"child\":\n",
    "        return 0\n",
    "    elif ageGroup == \"minor\":\n",
    "        return 5\n",
    "    elif ageGroup == \"adult\":\n",
    "        return 10\n",
    "    elif ageGroup == \"senior\":\n",
    "        return 8\n",
    "main()"
   ]
  }
 ],
 "metadata": {
  "kernelspec": {
   "display_name": "Python 3",
   "language": "python",
   "name": "python3"
  },
  "language_info": {
   "codemirror_mode": {
    "name": "ipython",
    "version": 3
   },
   "file_extension": ".py",
   "mimetype": "text/x-python",
   "name": "python",
   "nbconvert_exporter": "python",
   "pygments_lexer": "ipython3",
   "version": "3.11.3"
  },
  "orig_nbformat": 4
 },
 "nbformat": 4,
 "nbformat_minor": 2
}
