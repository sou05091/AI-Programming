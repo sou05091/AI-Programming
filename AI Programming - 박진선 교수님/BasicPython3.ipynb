{
 "cells": [
  {
   "cell_type": "code",
   "execution_count": 4,
   "metadata": {},
   "outputs": [
    {
     "name": "stdout",
     "output_type": "stream",
     "text": [
      "5050\n"
     ]
    }
   ],
   "source": [
    "def sum_num(n):\n",
    "    if n==1:\n",
    "        return 1\n",
    "    else:\n",
    "        return n + sum_num(n-1)\n",
    "    \n",
    "result = sum_num(100)\n",
    "print(result)"
   ]
  },
  {
   "cell_type": "code",
   "execution_count": 6,
   "metadata": {},
   "outputs": [
    {
     "name": "stdout",
     "output_type": "stream",
     "text": [
      "49995000\n"
     ]
    }
   ],
   "source": [
    "def arr_sum(n):\n",
    "    rs = []\n",
    "    for i in range(1,n):\n",
    "        rs.append(i)\n",
    "    return sum(rs)\n",
    "        \n",
    "result = arr_sum(10000)\n",
    "print(result)"
   ]
  },
  {
   "cell_type": "code",
   "execution_count": 17,
   "metadata": {},
   "outputs": [
    {
     "name": "stdout",
     "output_type": "stream",
     "text": [
      "Pig Latin translation: imkay\n"
     ]
    }
   ],
   "source": [
    "def pig_latin(word):\n",
    "    vowels = ['a', 'e', 'i', 'o', 'u']\n",
    "    \n",
    "    if word[0] in vowels:\n",
    "        pig_word = word + 'way'\n",
    "    else:\n",
    "        consonant_group = ''\n",
    "        i = 0\n",
    "        while i < len(word) and word[i] not in vowels:\n",
    "            consonant_group += word[i]\n",
    "            i += 1\n",
    "        pig_word = word[i:] + consonant_group + 'ay'\n",
    "    \n",
    "    return pig_word\n",
    "\n",
    "input_word = input(\"Enter a word in lowercase: \")\n",
    "pig_latin_word = pig_latin(input_word)\n",
    "print(\"Pig Latin translation:\", pig_latin_word)\n"
   ]
  },
  {
   "cell_type": "code",
   "execution_count": 21,
   "metadata": {},
   "outputs": [
    {
     "name": "stdout",
     "output_type": "stream",
     "text": [
      "appleway\n"
     ]
    }
   ],
   "source": [
    "word = input()\n",
    "idx = 0\n",
    "if word[0] in 'aeiouAEIOU':\n",
    "    result = word + 'way'\n",
    "else:\n",
    "    idx = 0\n",
    "    for i in range(len(word)):\n",
    "        if word[i] in 'aeiouAEIOU':\n",
    "            result = word[i:] + word[:i] + 'ay'\n",
    "            break\n",
    "print(format(result))"
   ]
  },
  {
   "cell_type": "code",
   "execution_count": 6,
   "metadata": {},
   "outputs": [
    {
     "name": "stdout",
     "output_type": "stream",
     "text": [
      "Number of bounces : 13\n",
      "Meters traveled : 44.82\n"
     ]
    }
   ],
   "source": [
    "def ball(k,height):\n",
    "    count = 0\n",
    "    travled = []\n",
    "    while True:\n",
    "        if height <= 0.1:\n",
    "            break\n",
    "        else:\n",
    "            travled.append(height)\n",
    "            height = height * k\n",
    "            count += 1\n",
    "    return count, (sum(travled)*2-travled[0])\n",
    "\n",
    "k = float(input())\n",
    "height = int(input())\n",
    "\n",
    "result = ball(k, height)\n",
    "round_result = round(result[1],2)\n",
    "print(f\"Number of bounces : {result[0]}\")\n",
    "print(f\"Meters traveled : {round_result}\")\n"
   ]
  },
  {
   "cell_type": "code",
   "execution_count": 32,
   "metadata": {},
   "outputs": [
    {
     "name": "stdout",
     "output_type": "stream",
     "text": [
      "66\n"
     ]
    }
   ],
   "source": [
    "def arr_sum(n):\n",
    "    rs = []\n",
    "    for i in range(1,n+1):\n",
    "        if i >= 10:\n",
    "            rs1 = i//10\n",
    "            rs2 = i%10\n",
    "            rs.append(rs1)\n",
    "            rs.append(rs2)\n",
    "        else:\n",
    "            rs.append(i)\n",
    "    return rs\n",
    "n = 15\n",
    "result = arr_sum(n)\n",
    "print(sum(result))\n",
    "#print(result)"
   ]
  },
  {
   "cell_type": "code",
   "execution_count": 33,
   "metadata": {},
   "outputs": [
    {
     "name": "stdout",
     "output_type": "stream",
     "text": [
      "27000001\n"
     ]
    }
   ],
   "source": [
    "digit_sum = 0\n",
    "for num in range(1,1000001):\n",
    "    digits = list(str(num))\n",
    "    for d in digits:\n",
    "        digit_sum += int(d)\n",
    "print(digit_sum)"
   ]
  },
  {
   "cell_type": "code",
   "execution_count": 34,
   "metadata": {},
   "outputs": [
    {
     "name": "stdout",
     "output_type": "stream",
     "text": [
      "['blue', 'red', 'white']\n"
     ]
    }
   ],
   "source": [
    "list1 = ['white', 'blue', 'red']\n",
    "list2 = sorted(list1)\n",
    "print(list2)"
   ]
  },
  {
   "cell_type": "code",
   "execution_count": 36,
   "metadata": {},
   "outputs": [
    {
     "data": {
      "text/plain": [
       "[4, 25, 36, 49]"
      ]
     },
     "execution_count": 36,
     "metadata": {},
     "output_type": "execute_result"
    }
   ],
   "source": [
    "list1 = ['2','5','6','7']\n",
    "[int(x) for x in list1] \n",
    "def g(x):\n",
    "    return(int(x) ** 2)\n",
    "[g(x) for x in list1]"
   ]
  }
 ],
 "metadata": {
  "kernelspec": {
   "display_name": "Python 3",
   "language": "python",
   "name": "python3"
  },
  "language_info": {
   "codemirror_mode": {
    "name": "ipython",
    "version": 3
   },
   "file_extension": ".py",
   "mimetype": "text/x-python",
   "name": "python",
   "nbconvert_exporter": "python",
   "pygments_lexer": "ipython3",
   "version": "3.11.3"
  },
  "orig_nbformat": 4
 },
 "nbformat": 4,
 "nbformat_minor": 2
}
