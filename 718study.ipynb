{
 "cells": [
  {
   "cell_type": "code",
   "execution_count": 2,
   "metadata": {},
   "outputs": [],
   "source": [
    "class Fraction:\n",
    "    def __init__(self, numerator, denominator):\n",
    "        self.numerator = numerator\n",
    "        self.denominator = denominator\n",
    "    \n",
    "    def reduce(self):\n",
    "        gcd = self.GCD(self.numerator, self.denominator)\n",
    "        self.numerator //= gcd\n",
    "        self.denominator //= gcd\n",
    "    \n",
    "    def GCD(self, m, n):\n",
    "        while n != 0:\n",
    "            t = n\n",
    "            n = m % n\n",
    "            m = t\n",
    "        return m\n"
   ]
  },
  {
   "cell_type": "code",
   "execution_count": 5,
   "metadata": {},
   "outputs": [
    {
     "name": "stdout",
     "output_type": "stream",
     "text": [
      "Reduction to lowest terms: 2 / 5\n"
     ]
    }
   ],
   "source": [
    "# Get user input\n",
    "numerator = int(input(\"Enter numerator of fraction: \"))\n",
    "denominator = int(input(\"Enter denominator of fraction: \"))\n",
    "\n",
    "# Create a Fraction object\n",
    "fraction = Fraction(numerator, denominator)\n",
    "\n",
    "# Reduce the fraction\n",
    "fraction.reduce()\n",
    "\n",
    "# Print the reduced fraction\n",
    "print(\"Reduction to lowest terms:\", fraction.numerator, \"/\", fraction.denominator)"
   ]
  },
  {
   "cell_type": "code",
   "execution_count": null,
   "metadata": {},
   "outputs": [],
   "source": [
    "# Get user input\n",
    "decimal = float(input(\"Enter a positive decimal number less than 1: \"))\n",
    "\n",
    "# Convert decimal to fraction\n",
    "numerator = int(decimal * 10000)\n",
    "denominator = 10000\n",
    "\n",
    "# Create a Fraction object\n",
    "fraction = Fraction(numerator, denominator)\n",
    "\n",
    "# Reduce the fraction\n",
    "fraction.reduce()\n",
    "\n",
    "# Print the converted fraction\n",
    "print(\"Converted to fraction:\", fraction.numerator, \"/\", fraction.denominator)"
   ]
  },
  {
   "cell_type": "code",
   "execution_count": 6,
   "metadata": {},
   "outputs": [
    {
     "name": "stdout",
     "output_type": "stream",
     "text": [
      "com chooses paper.\n",
      "min: 0 com: 1\n",
      "com chooses paper.\n",
      "min : 1 com : 1\n",
      "com chooses paper.\n",
      "It's a tie!\n",
      "Invalid choice! Please enter rock, scissors, or paper.\n",
      "Invalid choice! Please enter rock, scissors, or paper.\n",
      "com chooses scissors.\n",
      "min : 2 com : 1\n",
      "Invalid choice! Please enter rock, scissors, or paper.\n",
      "com chooses paper.\n",
      "min: 2 com: 2\n",
      "com chooses rock.\n",
      "It's a tie!\n",
      "com chooses rock.\n",
      "It's a tie!\n",
      "com chooses rock.\n",
      "It's a tie!\n",
      "com chooses rock.\n",
      "It's a tie!\n",
      "com chooses paper.\n",
      "min: 2 com: 3\n",
      "com WINS\n"
     ]
    }
   ],
   "source": [
    "import random\n",
    "\n",
    "arr = [\"rock\", \"scissors\", \"paper\"]\n",
    "\n",
    "human = input(\"Enter name of human: \")\n",
    "computer = input(\"Enter name of computer: \")\n",
    "\n",
    "human_score = 0\n",
    "computer_score = 0\n",
    "\n",
    "while True:\n",
    "    choice = input(f\"{human}, enter your choice (rock, scissors, paper): \")\n",
    "    while choice not in arr:\n",
    "        print(\"Invalid choice! Exit the programming!\")\n",
    "        break\n",
    "    computer_choice = random.choice(arr)\n",
    "    print(f\"{computer} chooses {computer_choice}.\")\n",
    "\n",
    "    if choice == computer_choice:\n",
    "        print(\"It's a tie!\")\n",
    "    elif (choice == \"rock\" and computer_choice == \"scissors\") or \\\n",
    "         (choice == \"scissors\" and computer_choice == \"paper\") or \\\n",
    "         (choice == \"paper\" and computer_choice == \"rock\"):\n",
    "        human_score += 1\n",
    "        print(f\"{human} : {human_score} {computer} : {computer_score}\")\n",
    "    else:\n",
    "        computer_score += 1\n",
    "        print(f\"{human}: {human_score} {computer}: {computer_score}\")\n",
    "\n",
    "    if computer_score == 3:\n",
    "        print(f\"{computer} WINS\")\n",
    "        break\n",
    "    elif human_score == 3:\n",
    "        print(f\"{human} wins!\")\n",
    "        break\n"
   ]
  }
 ],
 "metadata": {
  "kernelspec": {
   "display_name": "Python 3",
   "language": "python",
   "name": "python3"
  },
  "language_info": {
   "codemirror_mode": {
    "name": "ipython",
    "version": 3
   },
   "file_extension": ".py",
   "mimetype": "text/x-python",
   "name": "python",
   "nbconvert_exporter": "python",
   "pygments_lexer": "ipython3",
   "version": "3.11.3"
  },
  "orig_nbformat": 4
 },
 "nbformat": 4,
 "nbformat_minor": 2
}
